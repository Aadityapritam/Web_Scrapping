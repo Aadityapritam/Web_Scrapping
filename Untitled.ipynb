{
 "cells": [
  {
   "cell_type": "code",
   "execution_count": 164,
   "id": "former-objective",
   "metadata": {},
   "outputs": [
    {
     "data": {
      "text/plain": [
       "['https://www.midwayusa.com/product/1018227839',\n",
       " 'https://www.midwayusa.com/product/1301776634',\n",
       " 'https://www.midwayusa.com/product/1021313398',\n",
       " 'https://www.midwayusa.com/product/1021070320?pid=806816']"
      ]
     },
     "execution_count": 164,
     "metadata": {},
     "output_type": "execute_result"
    }
   ],
   "source": [
    "with open('midwayusa.txt','r') as f:\n",
    "    links=f.read().split()\n",
    "links"
   ]
  },
  {
   "cell_type": "code",
   "execution_count": 165,
   "id": "southwest-daughter",
   "metadata": {},
   "outputs": [
    {
     "name": "stdout",
     "output_type": "stream",
     "text": [
      "Hornady ELD Match Bullets 264 Cal 6.5mm (264 Diameter) 140 Grain Boat\n"
     ]
    }
   ],
   "source": [
    "import requests\n",
    "from bs4 import BeautifulSoup\n",
    "import urllib.request\n",
    "\n",
    "try:\n",
    "    page = urllib.request.urlopen(links[0])\n",
    "except:\n",
    "    print(\"An error occured.\")\n",
    "    \n",
    "soup = BeautifulSoup(page, 'html.parser')\n",
    "\n",
    "# soup=soup.prettify()\n",
    "# print(soup.prettify())\n",
    "print(soup.title.text)\n",
    "# soup.split('\\n')"
   ]
  },
  {
   "cell_type": "code",
   "execution_count": 166,
   "id": "dominican-leeds",
   "metadata": {},
   "outputs": [],
   "source": [
    "# <span ng-bind=\"selector.productAvailability\">\n",
    "#              Mixed Availability"
   ]
  },
  {
   "cell_type": "code",
   "execution_count": 167,
   "id": "personalized-elite",
   "metadata": {},
   "outputs": [
    {
     "name": "stdout",
     "output_type": "stream",
     "text": [
      "[<div class=\"product-block-status margin-bottom-s margin-left-l\">\n",
      "<mw-modal-trigger class=\"link-button text-bold product-block-status-availability\" content-url=\"{{selector.productAvailabilityUrl}}\" heading=\"{{selector.productAvailability}}\" size=\"small\">\n",
      "<span ng-bind=\"selector.productAvailability\">Mixed Availability</span>\n",
      "</mw-modal-trigger>\n",
      "<span class=\"product-oneTimeRun is-hidden\" data-ng-class=\"{'is-hidden': !selector.isOneTimeRun()}\">\r\n",
      "        One Time Offer <div class=\"tooltip-wrapper\" data-tooltip-container=\"\">\n",
      "<button aria-label=\"Open Tooltip\" class=\"tooltip-question-btn fas fa-question-circle\" data-tooltip-anchor=\"\" data-tooltip-question-btn=\"\" type=\"button\">\n",
      "</button>\n",
      "<div class=\"is-hidden tooltip\" data-tooltip-content=\"\">\n",
      "<button aria-label=\"Close Tooltip\" class=\"fas fa-times tooltip-close-btn fa-lg\" data-tooltip-close-btn=\"\" type=\"button\"></button>\r\n",
      "    One Time Offers represent special one-time purchases where MidwayUSA has negotiated a reduced price and then passed the savings on to the Customer.  One Time Offers have limited quantities available and usually once they are sold out, they are not offered again.\r\n",
      "</div>\n",
      "</div>\n",
      "</span>\n",
      "</div>]\n"
     ]
    }
   ],
   "source": [
    "import re\n",
    "# avail=['Temporarily unavailable','Mixed Availability']\n",
    "content_lis = soup.find_all('div', attrs={'class': 'product-block-status margin-bottom-s margin-left-l'})\n",
    "print(content_lis)"
   ]
  },
  {
   "cell_type": "code",
   "execution_count": 168,
   "id": "speaking-marijuana",
   "metadata": {},
   "outputs": [
    {
     "name": "stdout",
     "output_type": "stream",
     "text": [
      "Variant\n"
     ]
    }
   ],
   "source": [
    "avail1={'Temporarily unavailable':'Out of Stock','Out of Stock':'Out of Stock','Discontinued':'Out of Stock','Mixed Availability':'Variant'}\n",
    "#         content_lis = soup.find_all('mw-modal-trigger')\n",
    "avail=['Temporarily unavailable','Out of Stock','Discontinued','Mixed Availability']\n",
    "flag=''\n",
    "for ele in avail:\n",
    "    if ele in str(content_lis[0]):\n",
    "        flag=ele\n",
    "    else:\n",
    "        pass\n",
    "if(flag==''):\n",
    "    print('In Stock')\n",
    "else:\n",
    "    print(avail1[flag])"
   ]
  },
  {
   "cell_type": "code",
   "execution_count": 199,
   "id": "sapphire-lyric",
   "metadata": {},
   "outputs": [],
   "source": [
    "import requests\n",
    "from bs4 import BeautifulSoup\n",
    "import urllib.request\n",
    "import re\n",
    "import csv\n",
    "\n",
    "class Scrapper:\n",
    "    \n",
    "    def __init__(self, url):\n",
    "        self.link=url\n",
    "            \n",
    "    def scrap(self):\n",
    "        try:\n",
    "            page = urllib.request.urlopen(self.link)\n",
    "        except:\n",
    "            print(\"An error occured.\")\n",
    "    \n",
    "        self.soup = BeautifulSoup(page, 'html.parser')\n",
    "        self.content_lis = self.soup.find_all('mw-modal-trigger')\n",
    "#         print(soup)\n",
    "    \n",
    "    def find_output(self):\n",
    "        self.title=self.soup.title.text\n",
    "        avail1={'Temporarily unavailable':'Out of Stock','Out of Stock':'Out of Stock','Discontinued':'Discontinued','Mixed Availability':'Variant'}\n",
    "        avail=['Temporarily unavailable','Out of Stock','Discontinued','Mixed Availability']\n",
    "        flag=''\n",
    "        for ele in avail:\n",
    "            if ele in str(self.content_lis[0]):\n",
    "                flag=ele\n",
    "            else:\n",
    "                pass\n",
    "        if(flag==''):\n",
    "#             return {'Title':self.title,'Status':'In Stock','Hyperref':self.link}\n",
    "            return [self.title,'In Stock',self.link]\n",
    "#             print(self.title)\n",
    "#             print(self.link)\n",
    "#             print('In Stock')\n",
    "        else:\n",
    "#             return {'Title':self.title,'Status':avail1[flag],'Hyperref':self.link}\n",
    "            return [self.title,avail1[flag],self.link]\n",
    "#             print(self.title)\n",
    "#             print(self.link)\n",
    "#             print(avail1[flag])\n",
    "\n",
    "    \n",
    "if __name__=='__main__':\n",
    "    result=[]\n",
    "    fields=['Title','Product Status','Hyperref']\n",
    "    with open('midwayusa.txt','r') as f:\n",
    "        links=f.read().split()\n",
    "    for url in links:\n",
    "        obj=Scrapper(url)\n",
    "        obj.scrap()\n",
    "        result.append(obj.find_output())\n",
    "#     print(result)\n",
    "#     for i in result:\n",
    "#         print(i)\n",
    "    with open('output.csv','w') as f:\n",
    "        wrt = csv.writer(f)\n",
    "        wrt.writerow(fields)\n",
    "        wrt.writerows(result)"
   ]
  },
  {
   "cell_type": "code",
   "execution_count": null,
   "id": "blessed-mileage",
   "metadata": {},
   "outputs": [],
   "source": []
  }
 ],
 "metadata": {
  "kernelspec": {
   "display_name": "Python 3",
   "language": "python",
   "name": "python3"
  },
  "language_info": {
   "codemirror_mode": {
    "name": "ipython",
    "version": 3
   },
   "file_extension": ".py",
   "mimetype": "text/x-python",
   "name": "python",
   "nbconvert_exporter": "python",
   "pygments_lexer": "ipython3",
   "version": "3.7.4"
  }
 },
 "nbformat": 4,
 "nbformat_minor": 5
}
